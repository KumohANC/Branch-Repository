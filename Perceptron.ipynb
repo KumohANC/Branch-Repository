{
  "nbformat": 4,
  "nbformat_minor": 0,
  "metadata": {
    "colab": {
      "provenance": [],
      "authorship_tag": "ABX9TyNMdQImGs3BvN9L9faurHs4",
      "include_colab_link": true
    },
    "kernelspec": {
      "name": "python3",
      "display_name": "Python 3"
    },
    "language_info": {
      "name": "python"
    }
  },
  "cells": [
    {
      "cell_type": "markdown",
      "metadata": {
        "id": "view-in-github",
        "colab_type": "text"
      },
      "source": [
        "<a href=\"https://colab.research.google.com/github/KumohANC/Branch-Repository/blob/main/Perceptron.ipynb\" target=\"_parent\"><img src=\"https://colab.research.google.com/assets/colab-badge.svg\" alt=\"Open In Colab\"/></a>"
      ]
    },
    {
      "cell_type": "code",
      "execution_count": 9,
      "metadata": {
        "colab": {
          "base_uri": "https://localhost:8080/"
        },
        "id": "oUiplgEDlRv6",
        "outputId": "873a379a-7bdc-4857-8c62-9903db4dbeee"
      },
      "outputs": [
        {
          "output_type": "stream",
          "name": "stdout",
          "text": [
            "0 1.0618151426315308\n",
            "1000 0.4436999559402466\n",
            "2000 0.3522162437438965\n",
            "3000 0.2945478856563568\n",
            "4000 0.2543083429336548\n",
            "5000 0.2242887318134308\n",
            "6000 0.20084503293037415\n",
            "7000 0.18192993104457855\n",
            "8000 0.16629450023174286\n",
            "9000 0.15312591195106506\n",
            "10000 0.1418685019016266\n",
            "11000 0.13212688267230988\n",
            "12000 0.12361035495996475\n",
            "13000 0.11610005795955658\n",
            "14000 0.10942693799734116\n",
            "15000 0.10345856100320816\n",
            "16000 0.09808926284313202\n",
            "17000 0.09323371201753616\n",
            "18000 0.08882211148738861\n",
            "19000 0.0847967118024826\n",
            "20000 0.08110958337783813\n",
            "21000 0.07772019505500793\n",
            "22000 0.07459428906440735\n",
            "23000 0.07170268893241882\n",
            "24000 0.06902046501636505\n",
            "25000 0.0665259137749672\n",
            "26000 0.06420032680034637\n",
            "27000 0.06202714890241623\n",
            "28000 0.05999225005507469\n",
            "29000 0.05808308720588684\n",
            "30000 0.05628826841711998\n",
            "31000 0.05459822714328766\n",
            "32000 0.05300409719347954\n",
            "33000 0.05149788409471512\n",
            "34000 0.050073251128196716\n",
            "35000 0.048723213374614716\n",
            "36000 0.04744229093194008\n",
            "37000 0.046225402504205704\n",
            "38000 0.04506763815879822\n",
            "39000 0.04396533966064453\n",
            "40000 0.042914412915706635\n",
            "41000 0.041911229491233826\n",
            "42000 0.04095306247472763\n",
            "43000 0.04003681242465973\n",
            "44000 0.03915936127305031\n",
            "45000 0.038319580256938934\n",
            "46000 0.037513550370931625\n",
            "47000 0.036740586161613464\n",
            "48000 0.03599827364087105\n",
            "49000 0.03528426215052605\n",
            "50000 0.034597259014844894\n",
            "51000 0.03393680602312088\n",
            "52000 0.033300239592790604\n",
            "53000 0.032686952501535416\n",
            "54000 0.032095108181238174\n",
            "55000 0.031524114310741425\n",
            "56000 0.030972640961408615\n",
            "57000 0.03043965995311737\n",
            "58000 0.02992432564496994\n",
            "59000 0.02942589856684208\n",
            "60000 0.028943482786417007\n",
            "tensor([[5.8366e-05],\n",
            "        [3.3351e-02],\n",
            "        [3.3351e-02],\n",
            "        [9.5326e-01]])\n",
            "tensor([[False],\n",
            "        [False],\n",
            "        [False],\n",
            "        [ True]])\n"
          ]
        }
      ],
      "source": [
        "import torch\n",
        "import torch.nn as nn\n",
        "\n",
        "device = 'cuda' if torch.cuda.is_available() else 'cpu'\n",
        "\n",
        "#Q\n",
        "X = torch.FloatTensor([\n",
        "    [0,0],\n",
        "    [0,1],\n",
        "    [1,0],\n",
        "    [1,1]\n",
        "]).to(device)\n",
        "#A\n",
        "Y = torch.FloatTensor([\n",
        "    [0], [0], [0], [1]\n",
        "]).to(device)\n",
        "\n",
        "model = nn.Sequential(nn.Linear(2, 1, bias=True), nn.Sigmoid()).to(device)\n",
        "\n",
        "loss_func = torch.nn.BCELoss().to(device)\n",
        "optimizer = torch.optim.SGD(model.parameters(), lr=0.01)\n",
        "\n",
        "for step in range(20001 * 3):\n",
        "    optimizer.zero_grad()\n",
        "\n",
        "    Y_hat = model(X)\n",
        "    loss = loss_func(Y_hat, Y)\n",
        "    loss.backward()\n",
        "    optimizer.step()\n",
        "\n",
        "    if step % 1000 == 0:\n",
        "        print(step, loss.item())\n",
        "        \n",
        "with torch.no_grad():\n",
        "    model.eval()\n",
        "    inputs = torch.FloatTensor([\n",
        "        [0, 0],\n",
        "        [0, 1],\n",
        "        [1, 0],\n",
        "        [1, 1]\n",
        "    ]).to(device)\n",
        "    outputs = model(inputs)\n",
        "\n",
        "    print(outputs)\n",
        "    print(outputs > 0.5)\n",
        "\n",
        "\n",
        "\n"
      ]
    },
    {
      "cell_type": "code",
      "source": [],
      "metadata": {
        "id": "FPnnz9UimUXo"
      },
      "execution_count": null,
      "outputs": []
    }
  ]
}